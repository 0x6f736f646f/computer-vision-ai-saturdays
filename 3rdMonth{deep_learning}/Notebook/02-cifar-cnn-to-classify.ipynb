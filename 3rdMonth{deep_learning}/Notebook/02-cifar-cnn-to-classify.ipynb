{
  "nbformat": 4,
  "nbformat_minor": 0,
  "metadata": {
    "kernelspec": {
      "display_name": "Python 3",
      "language": "python",
      "name": "python3"
    },
    "language_info": {
      "codemirror_mode": {
        "name": "ipython",
        "version": 3
      },
      "file_extension": ".py",
      "mimetype": "text/x-python",
      "name": "python",
      "nbconvert_exporter": "python",
      "pygments_lexer": "ipython3",
      "version": "3.6.8"
    },
    "colab": {
      "name": "02-cifar-cnn-to-classify.ipynb",
      "provenance": [],
      "include_colab_link": true
    },
    "accelerator": "GPU"
  },
  "cells": [
    {
      "cell_type": "markdown",
      "metadata": {
        "id": "view-in-github",
        "colab_type": "text"
      },
      "source": [
        "<a href=\"https://colab.research.google.com/github/0x6f736f646f/computer-vision-ai-saturdays/blob/master/3rdMonth%7Bdeep_learning%7D/Notebook/02-cifar-cnn-to-classify.ipynb\" target=\"_parent\"><img src=\"https://colab.research.google.com/assets/colab-badge.svg\" alt=\"Open In Colab\"/></a>"
      ]
    },
    {
      "cell_type": "markdown",
      "metadata": {
        "id": "w6dlYuQRWebq"
      },
      "source": [
        "# Building a CNN to classify images on the CIFAR dataset"
      ]
    },
    {
      "cell_type": "markdown",
      "metadata": {
        "id": "5q9WcSzcWebw"
      },
      "source": [
        "https://www.cs.toronto.edu/~kriz/cifar.html|\n",
        "\n",
        "The CIFAR-10 dataset consists of 60000 32x32 colour images in 10 classes, with 6000 images per class."
      ]
    },
    {
      "cell_type": "markdown",
      "metadata": {
        "id": "q8GMxyiIWebx"
      },
      "source": [
        "## Building a CNN\n",
        "We will check how different layers are configured then build our own model"
      ]
    },
    {
      "cell_type": "code",
      "metadata": {
        "id": "v85VvKNUWeby"
      },
      "source": [
        "# To ignore warnings\n",
        "import warnings\n",
        "warnings.filterwarnings(\"ignore\")\n",
        "# Deep learning framework\n",
        "import keras\n",
        "from keras.datasets import cifar10\n",
        "from keras.preprocessing.image import ImageDataGenerator\n",
        "from keras.models import Sequential\n",
        "from keras.layers import Dense, Dropout, Activation, Flatten\n",
        "from keras.layers import Conv2D, MaxPooling2D\n",
        "# For plotting\n",
        "import matplotlib.pyplot as plt\n",
        "%matplotlib inline\n",
        "\n",
        "# import sys\n",
        "# sys.path.append(\"..\")\n",
        "# from Scripts.utils import plot_loss_accuracy"
      ],
      "execution_count": 1,
      "outputs": []
    },
    {
      "cell_type": "code",
      "metadata": {
        "id": "o8Co4nnwWebz",
        "outputId": "83b43520-e354-494a-f3e3-b96034a5ee58",
        "colab": {
          "base_uri": "https://localhost:8080/"
        }
      },
      "source": [
        "# Loading the data and splitting it to train and test\n",
        "(x_train, y_train), (x_test, y_test) = cifar10.load_data()\n",
        "print('x_train shape:', x_train.shape)\n",
        "print(x_train.shape[0], 'train samples')\n",
        "print(x_test.shape[0], 'test samples')"
      ],
      "execution_count": 2,
      "outputs": [
        {
          "output_type": "stream",
          "text": [
            "x_train shape: (50000, 32, 32, 3)\n",
            "50000 train samples\n",
            "10000 test samples\n"
          ],
          "name": "stdout"
        }
      ]
    },
    {
      "cell_type": "code",
      "metadata": {
        "id": "2lAj1cuJWeb1",
        "outputId": "3fdbbf28-bbef-4053-8204-e543f17d6598",
        "colab": {
          "base_uri": "https://localhost:8080/",
          "height": 298
        }
      },
      "source": [
        "# Lets look at one of the images and its label\n",
        "print(y_train[0])\n",
        "plt.imshow(x_train[0])"
      ],
      "execution_count": 3,
      "outputs": [
        {
          "output_type": "stream",
          "text": [
            "[6]\n"
          ],
          "name": "stdout"
        },
        {
          "output_type": "execute_result",
          "data": {
            "text/plain": [
              "<matplotlib.image.AxesImage at 0x7efee2249e50>"
            ]
          },
          "metadata": {
            "tags": []
          },
          "execution_count": 3
        },
        {
          "output_type": "display_data",
          "data": {
            "image/png": "[encoded data removed]",
            "text/plain": [
              "<Figure size 432x288 with 1 Axes>"
            ]
          },
          "metadata": {
            "tags": [],
            "needs_background": "light"
          }
        }
      ]
    },
    {
      "cell_type": "code",
      "metadata": {
        "id": "Eylnpb5NWeb2"
      },
      "source": [
        "classes = 10\n",
        "\n",
        "y_train = keras.utils.np_utils.to_categorical(y_train, classes)\n",
        "y_test = keras.utils.np_utils.to_categorical(y_test, classes)"
      ],
      "execution_count": 4,
      "outputs": []
    },
    {
      "cell_type": "code",
      "metadata": {
        "id": "wDpz7VCXWeb3",
        "outputId": "cd7bb5db-f596-4bf5-bd52-689ad232620b",
        "colab": {
          "base_uri": "https://localhost:8080/"
        }
      },
      "source": [
        "print(y_train[0])"
      ],
      "execution_count": 5,
      "outputs": [
        {
          "output_type": "stream",
          "text": [
            "[0. 0. 0. 0. 0. 0. 1. 0. 0. 0.]\n"
          ],
          "name": "stdout"
        }
      ]
    },
    {
      "cell_type": "code",
      "metadata": {
        "id": "8WESzrGrWeb3"
      },
      "source": [
        "# Making everything to be float and scale\n",
        "x_train = x_train.astype('float32')\n",
        "x_test = x_test.astype('float32')\n",
        "x_train /= 255\n",
        "x_test /= 255"
      ],
      "execution_count": 6,
      "outputs": []
    },
    {
      "cell_type": "markdown",
      "metadata": {
        "id": "kqeIQgOYWeb4"
      },
      "source": [
        "### Conv2D\n",
        "\n",
        "```python\n",
        "keras.layers.Conv2D(filters, kernel_size, strides=(1, 1), padding='valid', data_format=None, dilation_rate=(1, 1), activation=None, use_bias=True, kernel_initializer='glorot_uniform', bias_initializer='zeros', kernel_regularizer=None, bias_regularizer=None, activity_regularizer=None, kernel_constraint=None, bias_constraint=None)\n",
        "```\n",
        "When using this layer as the first layer in a model, provide the keyword argument input_shape\n",
        "\n",
        "- `filters`: Integer, the number of output filters in the convolution.\n",
        "- `kernel_size`: An integer or tuple/list of 2 integers, specifying the height and width of the 2D convolution window.\n",
        "- `strides`: and (x,y) tuple giving the stride in each dimension.  Default is `(1,1)`\n",
        "- `activation`: Activation function to use. If you don't specify anything, no activation is applied.\n",
        "\n",
        "\n",
        "Note, the size of the output will be determined by the kernel_size, strides\n",
        "\n",
        "### MaxPooling2D\n",
        "```python\n",
        "keras.layers.MaxPooling2D(pool_size=(2, 2), strides=None, padding='valid', data_format=None)\n",
        "```\n",
        "\n",
        "- `pool_size`: Integer or tuple of 2 integers, factors by which to downscale (vertical, horizontal).\n",
        "- `strides`: Integer, tuple of 2 integers, or None. Strides values.\n",
        "\n",
        "### Flatten\n",
        "```python\n",
        "keras.layers.Flatten(data_format=None)\n",
        "```\n",
        "Turns its input into a one-dimensional vector (per instance). Usually used when transitioning between convolutional layers and fully connected layers.\n",
        "\n",
        "### Activation\n",
        "```python\n",
        "keras.layers.Activation(activation)\n",
        "```\n",
        "\n",
        "Applies an activation function to the output\n",
        "\n",
        "### Sequential\n",
        "The Sequential model is a linear stack of layers. You can create a Sequential model by passing a list of layer instances to the constructor\n",
        "\n"
      ]
    },
    {
      "cell_type": "code",
      "metadata": {
        "id": "H3LK-sJTWeb5",
        "outputId": "f75868ec-4e7e-4e41-9a5b-a82f9dc38b70",
        "colab": {
          "base_uri": "https://localhost:8080/"
        }
      },
      "source": [
        "\n",
        "model_1 = Sequential()\n",
        "\n",
        "\n",
        "model_1.add(Conv2D(64, (4, 4), strides = (2,2), padding='same', input_shape=x_train.shape[1:]))\n",
        "model_1.add(Activation('relu'))\n",
        "model_1.add(Conv2D(64, (4, 4), strides = (2,2)))\n",
        "model_1.add(Activation('relu'))\n",
        "model_1.add(MaxPooling2D(pool_size=(2, 2)))\n",
        "model_1.add(Dropout(0.3))\n",
        "model_1.add(Flatten())\n",
        "model_1.add(Dense(512))\n",
        "model_1.add(Activation('relu'))\n",
        "model_1.add(Dropout(0.5))\n",
        "model_1.add(Dense(classes))\n",
        "model_1.add(Activation('softmax'))\n",
        "\n",
        "model_1.summary()"
      ],
      "execution_count": 7,
      "outputs": [
        {
          "output_type": "stream",
          "text": [
            "Model: \"sequential\"\n",
            "_________________________________________________________________\n",
            "Layer (type)                 Output Shape              Param #   \n",
            "=================================================================\n",
            "conv2d (Conv2D)              (None, 16, 16, 64)        3136      \n",
            "_________________________________________________________________\n",
            "activation (Activation)      (None, 16, 16, 64)        0         \n",
            "_________________________________________________________________\n",
            "conv2d_1 (Conv2D)            (None, 7, 7, 64)          65600     \n",
            "_________________________________________________________________\n",
            "activation_1 (Activation)    (None, 7, 7, 64)          0         \n",
            "_________________________________________________________________\n",
            "max_pooling2d (MaxPooling2D) (None, 3, 3, 64)          0         \n",
            "_________________________________________________________________\n",
            "dropout (Dropout)            (None, 3, 3, 64)          0         \n",
            "_________________________________________________________________\n",
            "flatten (Flatten)            (None, 576)               0         \n",
            "_________________________________________________________________\n",
            "dense (Dense)                (None, 512)               295424    \n",
            "_________________________________________________________________\n",
            "activation_2 (Activation)    (None, 512)               0         \n",
            "_________________________________________________________________\n",
            "dropout_1 (Dropout)          (None, 512)               0         \n",
            "_________________________________________________________________\n",
            "dense_1 (Dense)              (None, 10)                5130      \n",
            "_________________________________________________________________\n",
            "activation_3 (Activation)    (None, 10)                0         \n",
            "=================================================================\n",
            "Total params: 369,290\n",
            "Trainable params: 369,290\n",
            "Non-trainable params: 0\n",
            "_________________________________________________________________\n"
          ],
          "name": "stdout"
        }
      ]
    },
    {
      "cell_type": "code",
      "metadata": {
        "id": "ROjI0YAkWeb6",
        "outputId": "c61c256b-38dc-4ae0-c36d-dbfe492ab23e",
        "colab": {
          "base_uri": "https://localhost:8080/"
        }
      },
      "source": [
        "opt = keras.optimizers.Adam(lr=0.0005, decay=1e-6)\n",
        "model_1.compile(loss='categorical_crossentropy', optimizer=opt, metrics=['accuracy'])\n",
        "history = model_1.fit(x_train, y_train, batch_size=128, epochs=10, validation_data=(x_test, y_test), shuffle=True)"
      ],
      "execution_count": 8,
      "outputs": [
        {
          "output_type": "stream",
          "text": [
            "Epoch 1/10\n",
            "391/391 [==============================] - 18s 9ms/step - loss: 1.9741 - accuracy: 0.2683 - val_loss: 1.4881 - val_accuracy: 0.4642\n",
            "Epoch 2/10\n",
            "391/391 [==============================] - 2s 6ms/step - loss: 1.5204 - accuracy: 0.4478 - val_loss: 1.3326 - val_accuracy: 0.5272\n",
            "Epoch 3/10\n",
            "391/391 [==============================] - 3s 6ms/step - loss: 1.3815 - accuracy: 0.5008 - val_loss: 1.2355 - val_accuracy: 0.5642\n",
            "Epoch 4/10\n",
            "391/391 [==============================] - 2s 6ms/step - loss: 1.3126 - accuracy: 0.5334 - val_loss: 1.2025 - val_accuracy: 0.5738\n",
            "Epoch 5/10\n",
            "391/391 [==============================] - 2s 6ms/step - loss: 1.2415 - accuracy: 0.5546 - val_loss: 1.1367 - val_accuracy: 0.5945\n",
            "Epoch 6/10\n",
            "391/391 [==============================] - 2s 6ms/step - loss: 1.1885 - accuracy: 0.5761 - val_loss: 1.1152 - val_accuracy: 0.6063\n",
            "Epoch 7/10\n",
            "391/391 [==============================] - 2s 6ms/step - loss: 1.1520 - accuracy: 0.5925 - val_loss: 1.0784 - val_accuracy: 0.6223\n",
            "Epoch 8/10\n",
            "391/391 [==============================] - 2s 6ms/step - loss: 1.1147 - accuracy: 0.6041 - val_loss: 1.0199 - val_accuracy: 0.6393\n",
            "Epoch 9/10\n",
            "391/391 [==============================] - 2s 6ms/step - loss: 1.0784 - accuracy: 0.6180 - val_loss: 1.0290 - val_accuracy: 0.6407\n",
            "Epoch 10/10\n",
            "391/391 [==============================] - 2s 6ms/step - loss: 1.0591 - accuracy: 0.6263 - val_loss: 0.9977 - val_accuracy: 0.6524\n"
          ],
          "name": "stdout"
        }
      ]
    },
    {
      "cell_type": "code",
      "metadata": {
        "id": "P4sc6UgzWeb7",
        "outputId": "5161149c-768e-4526-c3b4-a6e70662e166",
        "colab": {
          "base_uri": "https://localhost:8080/"
        }
      },
      "source": [
        "score = model_1.evaluate(x_test, y_test, verbose=0)\n",
        "print('Test loss:', score[0])\n",
        "print('Test accuracy:', score[1])"
      ],
      "execution_count": 9,
      "outputs": [
        {
          "output_type": "stream",
          "text": [
            "Test loss: 0.9976716637611389\n",
            "Test accuracy: 0.652400016784668\n"
          ],
          "name": "stdout"
        }
      ]
    },
    {
      "cell_type": "code",
      "metadata": {
        "id": "c2rgr-RkabpK"
      },
      "source": [
        "def plot_loss_accuracy(history):\n",
        "    fig = plt.figure(figsize=(12, 6))\n",
        "    ax = fig.add_subplot(1, 2, 1)\n",
        "    ax.plot(history.history[\"loss\"],'r-d', label=\"Train Loss\")\n",
        "    ax.plot(history.history[\"val_loss\"],'b-d', label=\"Validation Loss\")\n",
        "    ax.legend()\n",
        "    ax.set_title('cross_entropy loss')\n",
        "    ax.grid(True)\n",
        "\n",
        "    ax = fig.add_subplot(1, 2, 2)\n",
        "    ax.plot(history.history[\"accuracy\"],'r-d', label=\"Train Accuracy\")\n",
        "    ax.plot(history.history[\"val_accuracy\"],'b-d', label=\"Validation Accuracy\")\n",
        "    ax.legend()\n",
        "    ax.set_title('accuracy')\n",
        "    ax.grid(True)"
      ],
      "execution_count": 10,
      "outputs": []
    },
    {
      "cell_type": "code",
      "metadata": {
        "id": "KzJv6hBYWeb7",
        "outputId": "b07e18bc-37dc-4837-c181-9d60ffa21697",
        "colab": {
          "base_uri": "https://localhost:8080/",
          "height": 390
        }
      },
      "source": [
        "plot_loss_accuracy(history)"
      ],
      "execution_count": 11,
      "outputs": [
        {
          "output_type": "display_data",
          "data": {
            "image/png": "[encoded data removed]",
            "text/plain": [
              "<Figure size 864x432 with 2 Axes>"
            ]
          },
          "metadata": {
            "tags": [],
            "needs_background": "light"
          }
        }
      ]
    },
    {
      "cell_type": "markdown",
      "metadata": {
        "id": "4KnH754QWeb8"
      },
      "source": [
        "### Exercise\n",
        "Our previous model had the structure:\n",
        "\n",
        "Conv -> Conv -> MaxPool -> Flatten -> Dense -> Final Classification\n",
        "\n",
        "(with appropriate activation functions and dropouts)\n",
        "\n",
        "1. Build a more complicated model with the following pattern:\n",
        "- Conv -> Conv -> Conv -> MaxPool -> Conv -> Conv -> MaxPool -> Flatten -> Dense -> Dense -> Final Classification\n",
        "\n",
        "- Use strides of 1 for all convolutional layers.\n",
        "\n",
        "2. How many parameters does your model have"
      ]
    },
    {
      "cell_type": "code",
      "metadata": {
        "id": "BrilaZaoWeb8"
      },
      "source": [
        ""
      ],
      "execution_count": 11,
      "outputs": []
    },
    {
      "cell_type": "code",
      "metadata": {
        "id": "QLiKdsSiWeb9"
      },
      "source": [
        ""
      ],
      "execution_count": 11,
      "outputs": []
    },
    {
      "cell_type": "code",
      "metadata": {
        "id": "3ZB0Meb7Web9",
        "outputId": "41573fac-7193-40fb-852f-42ac5b55db02",
        "colab": {
          "base_uri": "https://localhost:8080/"
        }
      },
      "source": [
        "datagen = ImageDataGenerator(\n",
        "    featurewise_center=False,  # set input mean to 0 over the dataset\n",
        "    samplewise_center=False,  # set each sample mean to 0\n",
        "    featurewise_std_normalization=False,  # divide inputs by std of the dataset\n",
        "    samplewise_std_normalization=False,  # divide each input by its std\n",
        "    zca_whitening=False,  # apply ZCA whitening\n",
        "    rotation_range=0,  # randomly rotate images in the range (degrees, 0 to 180)\n",
        "    width_shift_range=0.1,  # randomly shift images horizontally (fraction of total width)\n",
        "    height_shift_range=0.1,  # randomly shift images vertically (fraction of total height)\n",
        "    horizontal_flip=True,  # randomly flip images\n",
        "    vertical_flip=True)  # randomly flip images\n",
        "                   \n",
        "history = datagen.fit(x_train)      \n",
        "# This computes any statistics that may be needed (e.g. for centering) from the training set.\n",
        "\n",
        "    \n",
        "# Fit the model on the batches generated by datagen.flow().\n",
        "model_1.fit_generator(datagen.flow(x_train, y_train,batch_size=128), steps_per_epoch=x_train.shape[0] // 128, epochs=10, validation_data=(x_test, y_test))"
      ],
      "execution_count": 12,
      "outputs": [
        {
          "output_type": "stream",
          "text": [
            "Epoch 1/10\n",
            "390/390 [==============================] - 22s 57ms/step - loss: 1.4486 - accuracy: 0.4771 - val_loss: 1.0886 - val_accuracy: 0.6226\n",
            "Epoch 2/10\n",
            "390/390 [==============================] - 23s 58ms/step - loss: 1.3655 - accuracy: 0.5105 - val_loss: 1.0873 - val_accuracy: 0.6189\n",
            "Epoch 3/10\n",
            "390/390 [==============================] - 22s 57ms/step - loss: 1.3345 - accuracy: 0.5238 - val_loss: 1.0926 - val_accuracy: 0.6185\n",
            "Epoch 4/10\n",
            "390/390 [==============================] - 22s 56ms/step - loss: 1.3137 - accuracy: 0.5318 - val_loss: 1.1199 - val_accuracy: 0.6094\n",
            "Epoch 5/10\n",
            "390/390 [==============================] - 22s 57ms/step - loss: 1.2877 - accuracy: 0.5395 - val_loss: 1.0662 - val_accuracy: 0.6263\n",
            "Epoch 6/10\n",
            "390/390 [==============================] - 23s 58ms/step - loss: 1.2721 - accuracy: 0.5453 - val_loss: 1.0824 - val_accuracy: 0.6152\n",
            "Epoch 7/10\n",
            "390/390 [==============================] - 22s 56ms/step - loss: 1.2590 - accuracy: 0.5486 - val_loss: 1.0338 - val_accuracy: 0.6388\n",
            "Epoch 8/10\n",
            "390/390 [==============================] - 22s 56ms/step - loss: 1.2468 - accuracy: 0.5548 - val_loss: 1.0338 - val_accuracy: 0.6406\n",
            "Epoch 9/10\n",
            "390/390 [==============================] - 22s 57ms/step - loss: 1.2335 - accuracy: 0.5595 - val_loss: 1.0445 - val_accuracy: 0.6329\n",
            "Epoch 10/10\n",
            "390/390 [==============================] - 22s 56ms/step - loss: 1.2241 - accuracy: 0.5642 - val_loss: 1.0162 - val_accuracy: 0.6476\n"
          ],
          "name": "stdout"
        },
        {
          "output_type": "execute_result",
          "data": {
            "text/plain": [
              "<keras.callbacks.History at 0x7efe84da4150>"
            ]
          },
          "metadata": {
            "tags": []
          },
          "execution_count": 12
        }
      ]
    },
    {
      "cell_type": "code",
      "metadata": {
        "id": "j0QKD8iOc5X3",
        "outputId": "0af86678-5a53-4124-cc43-bcf06ef446c9",
        "colab": {
          "base_uri": "https://localhost:8080/"
        }
      },
      "source": [
        "print(history)"
      ],
      "execution_count": 13,
      "outputs": [
        {
          "output_type": "stream",
          "text": [
            "None\n"
          ],
          "name": "stdout"
        }
      ]
    },
    {
      "cell_type": "code",
      "metadata": {
        "id": "QZl7EcT9Web_",
        "outputId": "7c6aef17-dbb5-41c3-aee3-07b6a9d05f89",
        "colab": {
          "base_uri": "https://localhost:8080/",
          "height": 390
        }
      },
      "source": [
        "plot_loss_accuracy(model_1.history)"
      ],
      "execution_count": 14,
      "outputs": [
        {
          "output_type": "display_data",
          "data": {
            "image/png": "[encoded data removed]",
            "text/plain": [
              "<Figure size 864x432 with 2 Axes>"
            ]
          },
          "metadata": {
            "tags": [],
            "needs_background": "light"
          }
        }
      ]
    },
    {
      "cell_type": "code",
      "metadata": {
        "id": "4Byjp71oWecA"
      },
      "source": [
        ""
      ],
      "execution_count": 14,
      "outputs": []
    }
  ]
}