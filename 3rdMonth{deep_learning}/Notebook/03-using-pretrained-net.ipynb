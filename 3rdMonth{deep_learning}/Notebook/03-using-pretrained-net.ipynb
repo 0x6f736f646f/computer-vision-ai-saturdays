{
  "nbformat": 4,
  "nbformat_minor": 0,
  "metadata": {
    "accelerator": "GPU",
    "colab": {
      "name": "03-using-pretrained-net.ipynb",
      "provenance": [],
      "include_colab_link": true
    },
    "kernelspec": {
      "display_name": "Python 3",
      "language": "python",
      "name": "python3"
    },
    "language_info": {
      "codemirror_mode": {
        "name": "ipython",
        "version": 3
      },
      "file_extension": ".py",
      "mimetype": "text/x-python",
      "name": "python",
      "nbconvert_exporter": "python",
      "pygments_lexer": "ipython3",
      "version": "3.6.8"
    }
  },
  "cells": [
    {
      "cell_type": "markdown",
      "metadata": {
        "id": "view-in-github",
        "colab_type": "text"
      },
      "source": [
        "<a href=\"https://colab.research.google.com/github/0x6f736f646f/computer-vision-ai-saturdays/blob/master/3rdMonth%7Bdeep_learning%7D/Notebook/03-using-pretrained-net.ipynb\" target=\"_parent\"><img src=\"https://colab.research.google.com/assets/colab-badge.svg\" alt=\"Open In Colab\"/></a>"
      ]
    },
    {
      "cell_type": "markdown",
      "metadata": {
        "id": "MKXVMMnceOOC"
      },
      "source": [
        "## Using Pre-Trained Models\n",
        "\n",
        "You will load in the VGG and ResNet models.  You will then use your laptop camera to take a picture.  Then you will run your picture through these models to see the results.\n"
      ]
    },
    {
      "cell_type": "code",
      "metadata": {
        "id": "lQlENadReOOQ"
      },
      "source": [
        "import warnings\n",
        "warnings.filterwarnings(\"ignore\")\n",
        "\n",
        "from PIL import Image\n",
        "from keras.preprocessing import image\n",
        "from keras.applications import vgg16, resnet50, inception_v3 \n",
        "\n",
        "import numpy as np\n",
        "import pandas as pd\n",
        "\n",
        "import cv2\n",
        "import matplotlib.pyplot as plt\n",
        "\n",
        "%matplotlib inline"
      ],
      "execution_count": 1,
      "outputs": []
    },
    {
      "cell_type": "code",
      "metadata": {
        "id": "9vbXJSXyeOO5"
      },
      "source": [
        "def get_image(camera):\n",
        "    retval, im = camera.read()\n",
        "    return im"
      ],
      "execution_count": 2,
      "outputs": []
    },
    {
      "cell_type": "code",
      "metadata": {
        "id": "y4YMwHiieOPa"
      },
      "source": [
        "def save_webcam_image(img_path):\n",
        "\n",
        "    try:\n",
        "        ramp_frames = 10\n",
        "    \n",
        "        camera = cv2.VideoCapture(0)\n",
        "\n",
        "        for i in range(ramp_frames):\n",
        "            retval, im_camera = camera.read()\n",
        "\n",
        "        retval, im_camera = camera.read()\n",
        "\n",
        "        im = cv2.resize(im_camera, (224, 224)).astype(np.float32)\n",
        "        cv2.imwrite(img_path, im)\n",
        "        del (camera)\n",
        "        return True\n",
        "    except ValueError as e:\n",
        "        print(\"Image Capture Failed\")\n",
        "    return False"
      ],
      "execution_count": 3,
      "outputs": []
    },
    {
      "cell_type": "code",
      "metadata": {
        "id": "Fyu_ZcBNeOQD"
      },
      "source": [
        "# img_path = \"../Data/webcam_test_img.png\"\n",
        "img_path = \"../Data/face.jpeg\"\n",
        "# if save_webcam_image(img_path) is False:\n",
        "#     # Webcam not active, use the rocking chair Image\n",
        "#     img_path = \"../Data/face.jpeg\"\n",
        "#     print(\"Using the Test Rocking Chair Image: {}\".format(img_path))"
      ],
      "execution_count": 4,
      "outputs": []
    },
    {
      "cell_type": "code",
      "metadata": {
        "id": "q_CYa1HEfqPP",
        "outputId": "a9dbfa11-850e-4c95-f64d-a47f6e784e5e",
        "colab": {
          "base_uri": "https://localhost:8080/"
        }
      },
      "source": [
        "!wget https://github.com/JKUATSES/sesBoardv1/raw/main/Design/SESBOARD_Top.png"
      ],
      "execution_count": 5,
      "outputs": [
        {
          "output_type": "stream",
          "text": [
            "--2021-07-08 14:35:42--  https://github.com/JKUATSES/sesBoardv1/raw/main/Design/SESBOARD_Top.png\n",
            "Resolving github.com (github.com)... 52.69.186.44\n",
            "Connecting to github.com (github.com)|52.69.186.44|:443... connected.\n",
            "HTTP request sent, awaiting response... 302 Found\n",
            "Location: https://raw.githubusercontent.com/JKUATSES/sesBoardv1/main/Design/SESBOARD_Top.png [following]\n",
            "--2021-07-08 14:35:43--  https://raw.githubusercontent.com/JKUATSES/sesBoardv1/main/Design/SESBOARD_Top.png\n",
            "Resolving raw.githubusercontent.com (raw.githubusercontent.com)... 185.199.111.133, 185.199.108.133, 185.199.110.133, ...\n",
            "Connecting to raw.githubusercontent.com (raw.githubusercontent.com)|185.199.111.133|:443... connected.\n",
            "HTTP request sent, awaiting response... 200 OK\n",
            "Length: 81573 (80K) [image/png]\n",
            "Saving to: ‘SESBOARD_Top.png.1’\n",
            "\n",
            "SESBOARD_Top.png.1  100%[===================>]  79.66K  --.-KB/s    in 0.02s   \n",
            "\n",
            "2021-07-08 14:35:43 (4.96 MB/s) - ‘SESBOARD_Top.png.1’ saved [81573/81573]\n",
            "\n"
          ],
          "name": "stdout"
        }
      ]
    },
    {
      "cell_type": "code",
      "metadata": {
        "colab": {
          "base_uri": "https://localhost:8080/",
          "height": 285
        },
        "id": "M1IZzE8aeOQn",
        "outputId": "05254755-8fcc-43e5-b8d4-340b7299966c"
      },
      "source": [
        "img=cv2.imread('SESBOARD_Top.png')\n",
        "b,g,r=cv2.split(img)\n",
        "img_matplotlib=cv2.merge([r,g,b])\n",
        "\n",
        "plt.imshow(img_matplotlib)"
      ],
      "execution_count": 6,
      "outputs": [
        {
          "output_type": "execute_result",
          "data": {
            "text/plain": [
              "<matplotlib.image.AxesImage at 0x7f2b5f1e0c50>"
            ]
          },
          "metadata": {
            "tags": []
          },
          "execution_count": 6
        },
        {
          "output_type": "display_data",
          "data": {
            "image/png": "[encoded data removed]",
            "text/plain": [
              "<Figure size 432x288 with 1 Axes>"
            ]
          },
          "metadata": {
            "tags": [],
            "needs_background": "light"
          }
        }
      ]
    },
    {
      "cell_type": "markdown",
      "metadata": {
        "id": "Gwo3uirVeOQ_"
      },
      "source": [
        "## VGG16 - Pretrained Model"
      ]
    },
    {
      "cell_type": "code",
      "metadata": {
        "colab": {
          "base_uri": "https://localhost:8080/"
        },
        "id": "qbSYDXf1eORG",
        "outputId": "79572c63-3817-4c0d-90c9-56608decbb60"
      },
      "source": [
        "vgg16_model = vgg16.VGG16(weights='imagenet')\n",
        "vgg16_model.summary()"
      ],
      "execution_count": 7,
      "outputs": [
        {
          "output_type": "stream",
          "text": [
            "Model: \"vgg16\"\n",
            "_________________________________________________________________\n",
            "Layer (type)                 Output Shape              Param #   \n",
            "=================================================================\n",
            "input_1 (InputLayer)         [(None, 224, 224, 3)]     0         \n",
            "_________________________________________________________________\n",
            "block1_conv1 (Conv2D)        (None, 224, 224, 64)      1792      \n",
            "_________________________________________________________________\n",
            "block1_conv2 (Conv2D)        (None, 224, 224, 64)      36928     \n",
            "_________________________________________________________________\n",
            "block1_pool (MaxPooling2D)   (None, 112, 112, 64)      0         \n",
            "_________________________________________________________________\n",
            "block2_conv1 (Conv2D)        (None, 112, 112, 128)     73856     \n",
            "_________________________________________________________________\n",
            "block2_conv2 (Conv2D)        (None, 112, 112, 128)     147584    \n",
            "_________________________________________________________________\n",
            "block2_pool (MaxPooling2D)   (None, 56, 56, 128)       0         \n",
            "_________________________________________________________________\n",
            "block3_conv1 (Conv2D)        (None, 56, 56, 256)       295168    \n",
            "_________________________________________________________________\n",
            "block3_conv2 (Conv2D)        (None, 56, 56, 256)       590080    \n",
            "_________________________________________________________________\n",
            "block3_conv3 (Conv2D)        (None, 56, 56, 256)       590080    \n",
            "_________________________________________________________________\n",
            "block3_pool (MaxPooling2D)   (None, 28, 28, 256)       0         \n",
            "_________________________________________________________________\n",
            "block4_conv1 (Conv2D)        (None, 28, 28, 512)       1180160   \n",
            "_________________________________________________________________\n",
            "block4_conv2 (Conv2D)        (None, 28, 28, 512)       2359808   \n",
            "_________________________________________________________________\n",
            "block4_conv3 (Conv2D)        (None, 28, 28, 512)       2359808   \n",
            "_________________________________________________________________\n",
            "block4_pool (MaxPooling2D)   (None, 14, 14, 512)       0         \n",
            "_________________________________________________________________\n",
            "block5_conv1 (Conv2D)        (None, 14, 14, 512)       2359808   \n",
            "_________________________________________________________________\n",
            "block5_conv2 (Conv2D)        (None, 14, 14, 512)       2359808   \n",
            "_________________________________________________________________\n",
            "block5_conv3 (Conv2D)        (None, 14, 14, 512)       2359808   \n",
            "_________________________________________________________________\n",
            "block5_pool (MaxPooling2D)   (None, 7, 7, 512)         0         \n",
            "_________________________________________________________________\n",
            "flatten (Flatten)            (None, 25088)             0         \n",
            "_________________________________________________________________\n",
            "fc1 (Dense)                  (None, 4096)              102764544 \n",
            "_________________________________________________________________\n",
            "fc2 (Dense)                  (None, 4096)              16781312  \n",
            "_________________________________________________________________\n",
            "predictions (Dense)          (None, 1000)              4097000   \n",
            "=================================================================\n",
            "Total params: 138,357,544\n",
            "Trainable params: 138,357,544\n",
            "Non-trainable params: 0\n",
            "_________________________________________________________________\n"
          ],
          "name": "stdout"
        }
      ]
    },
    {
      "cell_type": "code",
      "metadata": {
        "id": "tB8WZFxyeORa"
      },
      "source": [
        "# Utility Function to Load Image, Preprocess input and Targets\n",
        "def predict_image(model, img_path, preprocess_input_fn, decode_predictions_fn, target_size=(224, 224)):\n",
        "\n",
        "    img = image.load_img(img_path, target_size=target_size)\n",
        "    x = image.img_to_array(img)\n",
        "    x = np.expand_dims(x, axis=0)\n",
        "    x = preprocess_input_fn(x)\n",
        "    \n",
        "    preds = model.predict(x)\n",
        "    predictions_df = pd.DataFrame(decode_predictions_fn(preds, top=10)[0])\n",
        "    predictions_df.columns = [\"Predicted Class\", \"Name\", \"Probability\"]\n",
        "    return predictions_df"
      ],
      "execution_count": 8,
      "outputs": []
    },
    {
      "cell_type": "code",
      "metadata": {
        "colab": {
          "base_uri": "https://localhost:8080/",
          "height": 331
        },
        "id": "jLW_BtGueORr",
        "outputId": "9b25cecc-bda0-4ede-c34d-4d9ce9b836c9"
      },
      "source": [
        "#img_path=\"rocking_chair.png\"  ## Uncomment this and put the path to your file here if desired\n",
        "# Predict Results\n",
        "predict_image(vgg16_model, \"SESBOARD_Top.png\", vgg16.preprocess_input, vgg16.decode_predictions)"
      ],
      "execution_count": 9,
      "outputs": [
        {
          "output_type": "execute_result",
          "data": {
            "text/html": [
              "<div>\n",
              "<style scoped>\n",
              "    .dataframe tbody tr th:only-of-type {\n",
              "        vertical-align: middle;\n",
              "    }\n",
              "\n",
              "    .dataframe tbody tr th {\n",
              "        vertical-align: top;\n",
              "    }\n",
              "\n",
              "    .dataframe thead th {\n",
              "        text-align: right;\n",
              "    }\n",
              "</style>\n",
              "<table border=\"1\" class=\"dataframe\">\n",
              "  <thead>\n",
              "    <tr style=\"text-align: right;\">\n",
              "      <th></th>\n",
              "      <th>Predicted Class</th>\n",
              "      <th>Name</th>\n",
              "      <th>Probability</th>\n",
              "    </tr>\n",
              "  </thead>\n",
              "  <tbody>\n",
              "    <tr>\n",
              "      <th>0</th>\n",
              "      <td>n03777754</td>\n",
              "      <td>modem</td>\n",
              "      <td>0.446453</td>\n",
              "    </tr>\n",
              "    <tr>\n",
              "      <th>1</th>\n",
              "      <td>n03598930</td>\n",
              "      <td>jigsaw_puzzle</td>\n",
              "      <td>0.160831</td>\n",
              "    </tr>\n",
              "    <tr>\n",
              "      <th>2</th>\n",
              "      <td>n03492542</td>\n",
              "      <td>hard_disc</td>\n",
              "      <td>0.087222</td>\n",
              "    </tr>\n",
              "    <tr>\n",
              "      <th>3</th>\n",
              "      <td>n03584254</td>\n",
              "      <td>iPod</td>\n",
              "      <td>0.068925</td>\n",
              "    </tr>\n",
              "    <tr>\n",
              "      <th>4</th>\n",
              "      <td>n04548362</td>\n",
              "      <td>wallet</td>\n",
              "      <td>0.040008</td>\n",
              "    </tr>\n",
              "    <tr>\n",
              "      <th>5</th>\n",
              "      <td>n07248320</td>\n",
              "      <td>book_jacket</td>\n",
              "      <td>0.025845</td>\n",
              "    </tr>\n",
              "    <tr>\n",
              "      <th>6</th>\n",
              "      <td>n02978881</td>\n",
              "      <td>cassette</td>\n",
              "      <td>0.020937</td>\n",
              "    </tr>\n",
              "    <tr>\n",
              "      <th>7</th>\n",
              "      <td>n02992529</td>\n",
              "      <td>cellular_telephone</td>\n",
              "      <td>0.013536</td>\n",
              "    </tr>\n",
              "    <tr>\n",
              "      <th>8</th>\n",
              "      <td>n03871628</td>\n",
              "      <td>packet</td>\n",
              "      <td>0.013125</td>\n",
              "    </tr>\n",
              "    <tr>\n",
              "      <th>9</th>\n",
              "      <td>n03485407</td>\n",
              "      <td>hand-held_computer</td>\n",
              "      <td>0.012611</td>\n",
              "    </tr>\n",
              "  </tbody>\n",
              "</table>\n",
              "</div>"
            ],
            "text/plain": [
              "  Predicted Class                Name  Probability\n",
              "0       n03777754               modem     0.446453\n",
              "1       n03598930       jigsaw_puzzle     0.160831\n",
              "2       n03492542           hard_disc     0.087222\n",
              "3       n03584254                iPod     0.068925\n",
              "4       n04548362              wallet     0.040008\n",
              "5       n07248320         book_jacket     0.025845\n",
              "6       n02978881            cassette     0.020937\n",
              "7       n02992529  cellular_telephone     0.013536\n",
              "8       n03871628              packet     0.013125\n",
              "9       n03485407  hand-held_computer     0.012611"
            ]
          },
          "metadata": {
            "tags": []
          },
          "execution_count": 9
        }
      ]
    },
    {
      "cell_type": "markdown",
      "metadata": {
        "id": "Xk4jk2VyeOSC"
      },
      "source": [
        "## Resnet50 - Pretrained Model"
      ]
    },
    {
      "cell_type": "code",
      "metadata": {
        "id": "AD68Hvx7eOSL"
      },
      "source": [
        ""
      ],
      "execution_count": 9,
      "outputs": []
    },
    {
      "cell_type": "markdown",
      "metadata": {
        "id": "zp8bTCMDeOSc"
      },
      "source": [
        "## Inception - Pretrained Model"
      ]
    },
    {
      "cell_type": "code",
      "metadata": {
        "id": "WqmNCa-ieOSh"
      },
      "source": [
        ""
      ],
      "execution_count": 9,
      "outputs": []
    }
  ]
}