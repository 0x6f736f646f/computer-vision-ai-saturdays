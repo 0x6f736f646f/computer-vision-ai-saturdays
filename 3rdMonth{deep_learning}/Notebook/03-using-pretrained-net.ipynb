{
  "nbformat": 4,
  "nbformat_minor": 0,
  "metadata": {
    "kernelspec": {
      "name": "python3",
      "display_name": "Python 3"
    },
    "language_info": {
      "codemirror_mode": {
        "name": "ipython",
        "version": 3
      },
      "file_extension": ".py",
      "mimetype": "text/x-python",
      "name": "python",
      "nbconvert_exporter": "python",
      "pygments_lexer": "ipython3",
      "version": "3.6.8"
    },
    "colab": {
      "name": "03-using-pretrained-net.ipynb",
      "provenance": [],
      "include_colab_link": true
    },
    "accelerator": "GPU"
  },
  "cells": [
    {
      "cell_type": "markdown",
      "metadata": {
        "id": "view-in-github",
        "colab_type": "text"
      },
      "source": [
        "<a href=\"https://colab.research.google.com/github/0x6f736f646f/computer-vision-ai-saturdays/blob/master/3rdMonth%7Bdeep_learning%7D/Notebook/03-using-pretrained-net.ipynb\" target=\"_parent\"><img src=\"https://colab.research.google.com/assets/colab-badge.svg\" alt=\"Open In Colab\"/></a>"
      ]
    },
    {
      "cell_type": "markdown",
      "metadata": {
        "id": "MKXVMMnceOOC",
        "colab_type": "text"
      },
      "source": [
        "## Using Pre-Trained Models\n",
        "\n",
        "You will load in the VGG and ResNet models.  You will then use your laptop camera to take a picture.  Then you will run your picture through these models to see the results.\n"
      ]
    },
    {
      "cell_type": "code",
      "metadata": {
        "id": "lQlENadReOOQ",
        "colab_type": "code",
        "colab": {
          "base_uri": "https://localhost:8080/",
          "height": 83
        },
        "outputId": "5a6fa231-697b-43cb-8a20-188cfca0980b"
      },
      "source": [
        "import warnings\n",
        "warnings.filterwarnings(\"ignore\")\n",
        "\n",
        "from PIL import Image\n",
        "from keras.preprocessing import image\n",
        "from keras.applications import vgg16, resnet50, InceptionV3 \n",
        "import numpy as np\n",
        "import pandas as pd\n",
        "\n",
        "import cv2\n",
        "import matplotlib.pyplot as plt\n",
        "\n",
        "%matplotlib inline"
      ],
      "execution_count": 1,
      "outputs": [
        {
          "output_type": "stream",
          "text": [
            "Using TensorFlow backend.\n"
          ],
          "name": "stderr"
        },
        {
          "output_type": "display_data",
          "data": {
            "text/html": [
              "<p style=\"color: red;\">\n",
              "The default version of TensorFlow in Colab will soon switch to TensorFlow 2.x.<br>\n",
              "We recommend you <a href=\"https://www.tensorflow.org/guide/migrate\" target=\"_blank\">upgrade</a> now \n",
              "or ensure your notebook will continue to use TensorFlow 1.x via the <code>%tensorflow_version 1.x</code> magic:\n",
              "<a href=\"https://colab.research.google.com/notebooks/tensorflow_version.ipynb\" target=\"_blank\">more info</a>.</p>\n"
            ],
            "text/plain": [
              "<IPython.core.display.HTML object>"
            ]
          },
          "metadata": {
            "tags": []
          }
        }
      ]
    },
    {
      "cell_type": "code",
      "metadata": {
        "id": "9vbXJSXyeOO5",
        "colab_type": "code",
        "colab": {}
      },
      "source": [
        "def get_image(camera):\n",
        "    retval, im = camera.read()\n",
        "    return im"
      ],
      "execution_count": 0,
      "outputs": []
    },
    {
      "cell_type": "code",
      "metadata": {
        "id": "y4YMwHiieOPa",
        "colab_type": "code",
        "colab": {}
      },
      "source": [
        "def save_webcam_image(img_path):\n",
        "\n",
        "    try:\n",
        "        ramp_frames = 10\n",
        "    \n",
        "        camera = cv2.VideoCapture(0)\n",
        "\n",
        "        for i in range(ramp_frames):\n",
        "            retval, im_camera = camera.read()\n",
        "\n",
        "        retval, im_camera = camera.read()\n",
        "\n",
        "        im = cv2.resize(im_camera, (224, 224)).astype(np.float32)\n",
        "        cv2.imwrite(img_path, im)\n",
        "        del (camera)\n",
        "        return True\n",
        "    except ValueError as e:\n",
        "        print(\"Image Capture Failed\")\n",
        "    return False"
      ],
      "execution_count": 0,
      "outputs": []
    },
    {
      "cell_type": "code",
      "metadata": {
        "id": "Fyu_ZcBNeOQD",
        "colab_type": "code",
        "colab": {}
      },
      "source": [
        "img_path = \"../Data/webcam_test_img.png\"\n",
        "\n",
        "if save_webcam_image(img_path) is False:\n",
        "    # Webcam not active, use the rocking chair Image\n",
        "    img_path = \"rocking_chair.jpg\"\n",
        "    print(\"Using the Test Rocking Chair Image: {}\".format(img_path))"
      ],
      "execution_count": 0,
      "outputs": []
    },
    {
      "cell_type": "code",
      "metadata": {
        "id": "M1IZzE8aeOQn",
        "colab_type": "code",
        "colab": {}
      },
      "source": [
        "plt.imshow(cv2.imread(img_path))"
      ],
      "execution_count": 0,
      "outputs": []
    },
    {
      "cell_type": "markdown",
      "metadata": {
        "id": "Gwo3uirVeOQ_",
        "colab_type": "text"
      },
      "source": [
        "## VGG16 - Pretrained Model"
      ]
    },
    {
      "cell_type": "code",
      "metadata": {
        "id": "qbSYDXf1eORG",
        "colab_type": "code",
        "colab": {}
      },
      "source": [
        "vgg16_model = vgg16.VGG16(weights='imagenet')\n",
        "vgg16_model.summary()"
      ],
      "execution_count": 0,
      "outputs": []
    },
    {
      "cell_type": "code",
      "metadata": {
        "id": "tB8WZFxyeORa",
        "colab_type": "code",
        "colab": {}
      },
      "source": [
        "# Utility Function to Load Image, Preprocess input and Targets\n",
        "def predict_image(model, img_path, preprocess_input_fn, decode_predictions_fn, target_size=(224, 224)):\n",
        "\n",
        "    img = image.load_img(img_path, target_size=target_size)\n",
        "    x = image.img_to_array(img)\n",
        "    x = np.expand_dims(x, axis=0)\n",
        "    x = preprocess_input_fn(x)\n",
        "    \n",
        "    preds = model.predict(x)\n",
        "    predictions_df = pd.DataFrame(decode_predictions_fn(preds, top=10)[0])\n",
        "    predictions_df.columns = [\"Predicted Class\", \"Name\", \"Probability\"]\n",
        "    return predictions_df"
      ],
      "execution_count": 0,
      "outputs": []
    },
    {
      "cell_type": "code",
      "metadata": {
        "id": "jLW_BtGueORr",
        "colab_type": "code",
        "colab": {}
      },
      "source": [
        "#img_path=\"rocking_chair.png\"  ## Uncomment this and put the path to your file here if desired\n",
        "# Predict Results\n",
        "predict_image(vgg16_model, img_path, vgg16.preprocess_input, vgg16.decode_predictions)"
      ],
      "execution_count": 0,
      "outputs": []
    },
    {
      "cell_type": "markdown",
      "metadata": {
        "id": "Xk4jk2VyeOSC",
        "colab_type": "text"
      },
      "source": [
        "## Resnet50 - Pretrained Model"
      ]
    },
    {
      "cell_type": "code",
      "metadata": {
        "id": "AD68Hvx7eOSL",
        "colab_type": "code",
        "colab": {}
      },
      "source": [
        ""
      ],
      "execution_count": 0,
      "outputs": []
    },
    {
      "cell_type": "markdown",
      "metadata": {
        "id": "zp8bTCMDeOSc",
        "colab_type": "text"
      },
      "source": [
        "## Inception - Pretrained Model"
      ]
    },
    {
      "cell_type": "code",
      "metadata": {
        "id": "WqmNCa-ieOSh",
        "colab_type": "code",
        "colab": {}
      },
      "source": [
        ""
      ],
      "execution_count": 0,
      "outputs": []
    }
  ]
}