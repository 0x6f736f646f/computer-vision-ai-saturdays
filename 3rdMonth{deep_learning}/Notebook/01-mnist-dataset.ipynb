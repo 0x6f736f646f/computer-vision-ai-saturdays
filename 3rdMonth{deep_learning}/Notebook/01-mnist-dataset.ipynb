{
  "nbformat": 4,
  "nbformat_minor": 0,
  "metadata": {
    "kernelspec": {
      "name": "python3",
      "display_name": "Python 3"
    },
    "language_info": {
      "codemirror_mode": {
        "name": "ipython",
        "version": 3
      },
      "file_extension": ".py",
      "mimetype": "text/x-python",
      "name": "python",
      "nbconvert_exporter": "python",
      "pygments_lexer": "ipython3",
      "version": "3.6.8"
    },
    "colab": {
      "name": "01-mnist-dataset.ipynb",
      "provenance": [],
      "include_colab_link": true
    },
    "accelerator": "TPU"
  },
  "cells": [
    {
      "cell_type": "markdown",
      "metadata": {
        "id": "view-in-github",
        "colab_type": "text"
      },
      "source": [
        "<a href=\"https://colab.research.google.com/github/0x6f736f646f/computer-vision-ai-saturdays/blob/master/3rdMonth%7Bdeep_learning%7D/Notebook/01-mnist-dataset.ipynb\" target=\"_parent\"><img src=\"https://colab.research.google.com/assets/colab-badge.svg\" alt=\"Open In Colab\"/></a>"
      ]
    },
    {
      "cell_type": "markdown",
      "metadata": {
        "id": "0hXScV17eMyG",
        "colab_type": "text"
      },
      "source": [
        "# Handwritten Image Detection with Keras using MNIST data"
      ]
    },
    {
      "cell_type": "markdown",
      "metadata": {
        "id": "jTzqs9NAeMyT",
        "colab_type": "text"
      },
      "source": [
        "We will load the data then build a network and train it. Finally we will try different models"
      ]
    },
    {
      "cell_type": "code",
      "metadata": {
        "id": "5fdW6j42eMyd",
        "colab_type": "code",
        "colab": {}
      },
      "source": [
        "# To ignore warnings\n",
        "import warnings\n",
        "warnings.filterwarnings(\"ignore\")\n",
        "# Deep learning framework\n",
        "import keras\n",
        "from keras.datasets import mnist\n",
        "from keras.models import Sequential\n",
        "from keras.layers import Dense, Dropout\n",
        "from keras.optimizers import RMSprop\n",
        "# Numerical computation\n",
        "import numpy as np\n",
        "# For plotting images and graphs\n",
        "import matplotlib.pyplot as plt\n",
        "import sys\n",
        "sys.path.append(\"..\")\n",
        "from Scripts.utils import plot_loss_accuracy\n",
        "%matplotlib inline"
      ],
      "execution_count": 0,
      "outputs": []
    },
    {
      "cell_type": "code",
      "metadata": {
        "id": "YZX5CAjDeMy4",
        "colab_type": "code",
        "colab": {}
      },
      "source": [
        "# Load the data and split it to train and test\n",
        "(x_train, y_train), (x_test, y_test) = mnist.load_data()"
      ],
      "execution_count": 0,
      "outputs": []
    },
    {
      "cell_type": "code",
      "metadata": {
        "id": "P8V88VALeMzK",
        "colab_type": "code",
        "colab": {}
      },
      "source": [
        "# Checking shape for one of the images\n",
        "x_train[0].shape"
      ],
      "execution_count": 0,
      "outputs": []
    },
    {
      "cell_type": "code",
      "metadata": {
        "id": "zNjxG5x3eMzk",
        "colab_type": "code",
        "colab": {}
      },
      "source": [
        "# Looking at actual data in image form\n",
        "plt.imshow(x_train[0], cmap='gray')"
      ],
      "execution_count": 0,
      "outputs": []
    },
    {
      "cell_type": "code",
      "metadata": {
        "id": "MRh3lp8leMz4",
        "colab_type": "code",
        "colab": {}
      },
      "source": [
        "# The actual label for the above image\n",
        "y_train[0]"
      ],
      "execution_count": 0,
      "outputs": []
    },
    {
      "cell_type": "code",
      "metadata": {
        "id": "ZaCfQpDBeM0I",
        "colab_type": "code",
        "colab": {}
      },
      "source": [
        "# Lets check the shape for our images\n",
        "print(x_train.shape, 'train samples')\n",
        "print(x_test.shape, 'test samples')"
      ],
      "execution_count": 0,
      "outputs": []
    },
    {
      "cell_type": "code",
      "metadata": {
        "id": "Xltg7bNFeM0Y",
        "colab_type": "code",
        "colab": {}
      },
      "source": [
        "# To feed MNIST instances into a neural network, they need to be reshaped, from a 2 dimensional image representation to a single dimension sequence\n",
        "x_train = x_train.reshape(len(x_train), 28*28)\n",
        "x_test = x_test.reshape(len(x_test), 28*28)"
      ],
      "execution_count": 0,
      "outputs": []
    },
    {
      "cell_type": "code",
      "metadata": {
        "id": "BNLTH210eM0o",
        "colab_type": "code",
        "colab": {}
      },
      "source": [
        "# Casting to floats\n",
        "x_train = x_train.astype(\"float32\")/255\n",
        "x_test = x_test.astype(\"float32\")/255"
      ],
      "execution_count": 0,
      "outputs": []
    },
    {
      "cell_type": "code",
      "metadata": {
        "id": "6Qf3cExneM02",
        "colab_type": "code",
        "colab": {}
      },
      "source": [
        "# Converting target to binary class matrix\n",
        "classes = 10\n",
        "y_train = keras.utils.to_categorical(y_train, classes)\n",
        "y_test = keras.utils.to_categorical(y_test, classes)"
      ],
      "execution_count": 0,
      "outputs": []
    },
    {
      "cell_type": "code",
      "metadata": {
        "id": "0RpQpuxueM1D",
        "colab_type": "code",
        "colab": {}
      },
      "source": [
        "y_train[0]"
      ],
      "execution_count": 0,
      "outputs": []
    },
    {
      "cell_type": "code",
      "metadata": {
        "id": "oTMGbQxOeM1R",
        "colab_type": "code",
        "colab": {}
      },
      "source": [
        "# Lets start with a simple model with 1 hidden layers\n",
        "model_1 = Sequential()\n",
        "model_1.add(Dense(64, activation=\"relu\", input_shape=(784, )))\n",
        "model_1.add(Dropout(0.3))\n",
        "model_1.add(Dense(64, activation='relu'))\n",
        "model_1.add(Dropout(0.3))\n",
        "model_1.add(Dense(10, activation='softmax'))\n",
        "model_1.summary()"
      ],
      "execution_count": 0,
      "outputs": []
    },
    {
      "cell_type": "code",
      "metadata": {
        "id": "bpTWzxM1eM1e",
        "colab_type": "code",
        "colab": {}
      },
      "source": [
        "# Let's compile the model\n",
        "learning_rate = .001\n",
        "model_1.compile(loss='categorical_crossentropy', optimizer=RMSprop(lr=learning_rate), metrics=['accuracy'])"
      ],
      "execution_count": 0,
      "outputs": []
    },
    {
      "cell_type": "code",
      "metadata": {
        "id": "8eA5U6Z2eM1q",
        "colab_type": "code",
        "colab": {}
      },
      "source": [
        "# And now let's fit.\n",
        "history = model_1.fit(x_train, y_train, batch_size=128, epochs=10, verbose=1, validation_data=(x_test, y_test))"
      ],
      "execution_count": 0,
      "outputs": []
    },
    {
      "cell_type": "code",
      "metadata": {
        "id": "N9uNAFlieM10",
        "colab_type": "code",
        "colab": {}
      },
      "source": [
        "## We will use Keras evaluate function to evaluate performance on the test set\n",
        "\n",
        "score = model_1.evaluate(x_test, y_test, verbose=0)\n",
        "print('Test loss:', score[0])\n",
        "print('Test accuracy:', score[1])"
      ],
      "execution_count": 0,
      "outputs": []
    },
    {
      "cell_type": "code",
      "metadata": {
        "id": "KOY1V45qeM2B",
        "colab_type": "code",
        "colab": {}
      },
      "source": [
        "plot_loss_accuracy(history)"
      ],
      "execution_count": 0,
      "outputs": []
    },
    {
      "cell_type": "markdown",
      "metadata": {
        "id": "oHrJswVfeM2N",
        "colab_type": "text"
      },
      "source": [
        "## Exercise\n",
        "### Your Turn: Build your own model\n",
        "Use the Keras \"Sequential\" functionality to build `model_2` with the following specifications:\n",
        "\n",
        "1. Three hidden layers.\n",
        "2. Layers\n",
        " - First 300\n",
        " - Second 200\n",
        " - Third 100\n",
        "3. Dropout of .4 at each layer\n",
        "4. How many parameters does your model have?\n",
        "4. Train this model for 20 epochs with RMSProp at a learning rate of .001 and a batch size of 128\n",
        "\n",
        "\n"
      ]
    },
    {
      "cell_type": "code",
      "metadata": {
        "id": "2E3cPjrleM2R",
        "colab_type": "code",
        "colab": {}
      },
      "source": [
        ""
      ],
      "execution_count": 0,
      "outputs": []
    }
  ]
}