{
  "nbformat": 4,
  "nbformat_minor": 0,
  "metadata": {
    "accelerator": "TPU",
    "colab": {
      "name": "01-mnist-dataset.ipynb",
      "provenance": [],
      "include_colab_link": true
    },
    "kernelspec": {
      "display_name": "Python 3",
      "language": "python",
      "name": "python3"
    },
    "language_info": {
      "codemirror_mode": {
        "name": "ipython",
        "version": 3
      },
      "file_extension": ".py",
      "mimetype": "text/x-python",
      "name": "python",
      "nbconvert_exporter": "python",
      "pygments_lexer": "ipython3",
      "version": "3.6.8"
    }
  },
  "cells": [
    {
      "cell_type": "markdown",
      "metadata": {
        "id": "view-in-github",
        "colab_type": "text"
      },
      "source": [
        "<a href=\"https://colab.research.google.com/github/0x6f736f646f/computer-vision-ai-saturdays/blob/master/3rdMonth%7Bdeep_learning%7D/Notebook/01-mnist-dataset.ipynb\" target=\"_parent\"><img src=\"https://colab.research.google.com/assets/colab-badge.svg\" alt=\"Open In Colab\"/></a>"
      ]
    },
    {
      "cell_type": "markdown",
      "metadata": {
        "id": "0hXScV17eMyG"
      },
      "source": [
        "# Handwritten Image Detection with Keras using MNIST data"
      ]
    },
    {
      "cell_type": "markdown",
      "metadata": {
        "id": "jTzqs9NAeMyT"
      },
      "source": [
        "We will load the data then build a network and train it. Finally we will try different models"
      ]
    },
    {
      "cell_type": "code",
      "metadata": {
        "id": "5fdW6j42eMyd"
      },
      "source": [
        "# To ignore warnings\n",
        "import warnings\n",
        "warnings.filterwarnings(\"ignore\")\n",
        "# Deep learning framework\n",
        "import keras\n",
        "from keras.datasets import mnist\n",
        "from keras.models import Sequential\n",
        "from keras.layers import Dense, Dropout\n",
        "from keras.optimizers import RMSprop\n",
        "from keras.utils.np_utils import to_categorical\n",
        "\n",
        "# Numerical computation\n",
        "import numpy as np\n",
        "# For plotting images and graphs\n",
        "import matplotlib.pyplot as plt\n",
        "import sys\n",
        "sys.path.append(\"..\")\n",
        "#from Scripts.utils import plot_loss_accuracy\n",
        "%matplotlib inline"
      ],
      "execution_count": 1,
      "outputs": []
    },
    {
      "cell_type": "code",
      "metadata": {
        "id": "YZX5CAjDeMy4"
      },
      "source": [
        "# Load the data and split it to train and test\n",
        "(x_train, y_train), (x_test, y_test) = mnist.load_data()"
      ],
      "execution_count": 2,
      "outputs": []
    },
    {
      "cell_type": "code",
      "metadata": {
        "colab": {
          "base_uri": "https://localhost:8080/"
        },
        "id": "P8V88VALeMzK",
        "outputId": "1a9dae2a-d36f-4558-cb8d-ad9dbd922966"
      },
      "source": [
        "# Checking shape for one of the images\n",
        "x_train[0].shape"
      ],
      "execution_count": 3,
      "outputs": [
        {
          "output_type": "execute_result",
          "data": {
            "text/plain": [
              "(28, 28)"
            ]
          },
          "metadata": {
            "tags": []
          },
          "execution_count": 3
        }
      ]
    },
    {
      "cell_type": "code",
      "metadata": {
        "colab": {
          "base_uri": "https://localhost:8080/",
          "height": 282
        },
        "id": "zNjxG5x3eMzk",
        "outputId": "6c1a8fd0-3d4c-4060-87fc-ab57aa80e500"
      },
      "source": [
        "# Looking at actual data in image form\n",
        "plt.imshow(x_train[0], cmap='gray')"
      ],
      "execution_count": 4,
      "outputs": [
        {
          "output_type": "execute_result",
          "data": {
            "text/plain": [
              "<matplotlib.image.AxesImage at 0x7f6fb67db310>"
            ]
          },
          "metadata": {
            "tags": []
          },
          "execution_count": 4
        },
        {
          "output_type": "display_data",
          "data": {
            "image/png": "[encoded data removed]",
            "text/plain": [
              "<Figure size 432x288 with 1 Axes>"
            ]
          },
          "metadata": {
            "tags": [],
            "needs_background": "light"
          }
        }
      ]
    },
    {
      "cell_type": "code",
      "metadata": {
        "colab": {
          "base_uri": "https://localhost:8080/"
        },
        "id": "MRh3lp8leMz4",
        "outputId": "76097b73-244e-4a70-cd8d-1af837a3c9df"
      },
      "source": [
        "# The actual label for the above image\n",
        "y_train[0]"
      ],
      "execution_count": 5,
      "outputs": [
        {
          "output_type": "execute_result",
          "data": {
            "text/plain": [
              "5"
            ]
          },
          "metadata": {
            "tags": []
          },
          "execution_count": 5
        }
      ]
    },
    {
      "cell_type": "code",
      "metadata": {
        "colab": {
          "base_uri": "https://localhost:8080/"
        },
        "id": "ZaCfQpDBeM0I",
        "outputId": "7e349d42-c736-4ef9-f3f4-0efa6f025705"
      },
      "source": [
        "# Lets check the shape for our images\n",
        "print(x_train.shape, 'train samples')\n",
        "print(x_test.shape, 'test samples')"
      ],
      "execution_count": 6,
      "outputs": [
        {
          "output_type": "stream",
          "text": [
            "(60000, 28, 28) train samples\n",
            "(10000, 28, 28) test samples\n"
          ],
          "name": "stdout"
        }
      ]
    },
    {
      "cell_type": "code",
      "metadata": {
        "id": "Xltg7bNFeM0Y"
      },
      "source": [
        "# To feed MNIST instances into a neural network, they need to be reshaped, from a 2 dimensional image representation to a single dimension sequence\n",
        "x_train = x_train.reshape(len(x_train), 28*28)\n",
        "x_test = x_test.reshape(len(x_test), 28*28)"
      ],
      "execution_count": 7,
      "outputs": []
    },
    {
      "cell_type": "code",
      "metadata": {
        "id": "BNLTH210eM0o"
      },
      "source": [
        "# Casting to floats\n",
        "x_train = x_train.astype(\"float32\")/255\n",
        "x_test = x_test.astype(\"float32\")/255"
      ],
      "execution_count": 8,
      "outputs": []
    },
    {
      "cell_type": "code",
      "metadata": {
        "id": "6Qf3cExneM02"
      },
      "source": [
        "# Converting target to binary class matrix\n",
        "classes = 10\n",
        "y_train = to_categorical(y_train, classes)\n",
        "y_test = to_categorical(y_test, classes)"
      ],
      "execution_count": 9,
      "outputs": []
    },
    {
      "cell_type": "code",
      "metadata": {
        "colab": {
          "base_uri": "https://localhost:8080/"
        },
        "id": "0RpQpuxueM1D",
        "outputId": "a001cd1f-37f5-4d02-a1e5-24a4d32413b1"
      },
      "source": [
        "y_train[0]"
      ],
      "execution_count": 10,
      "outputs": [
        {
          "output_type": "execute_result",
          "data": {
            "text/plain": [
              "array([0., 0., 0., 0., 0., 1., 0., 0., 0., 0.], dtype=float32)"
            ]
          },
          "metadata": {
            "tags": []
          },
          "execution_count": 10
        }
      ]
    },
    {
      "cell_type": "code",
      "metadata": {
        "colab": {
          "base_uri": "https://localhost:8080/"
        },
        "id": "oTMGbQxOeM1R",
        "outputId": "e2f8a24e-e17c-4d61-dd51-fb1ef427c180"
      },
      "source": [
        "# Lets start with a simple model with 1 hidden layers\n",
        "model_1 = Sequential()\n",
        "model_1.add(Dense(64, activation=\"relu\", input_shape=(784, )))\n",
        "model_1.add(Dropout(0.3))\n",
        "model_1.add(Dense(64, activation='relu'))\n",
        "model_1.add(Dropout(0.3))\n",
        "model_1.add(Dense(10, activation='softmax'))\n",
        "model_1.summary()"
      ],
      "execution_count": 11,
      "outputs": [
        {
          "output_type": "stream",
          "text": [
            "Model: \"sequential\"\n",
            "_________________________________________________________________\n",
            "Layer (type)                 Output Shape              Param #   \n",
            "=================================================================\n",
            "dense (Dense)                (None, 64)                50240     \n",
            "_________________________________________________________________\n",
            "dropout (Dropout)            (None, 64)                0         \n",
            "_________________________________________________________________\n",
            "dense_1 (Dense)              (None, 64)                4160      \n",
            "_________________________________________________________________\n",
            "dropout_1 (Dropout)          (None, 64)                0         \n",
            "_________________________________________________________________\n",
            "dense_2 (Dense)              (None, 10)                650       \n",
            "=================================================================\n",
            "Total params: 55,050\n",
            "Trainable params: 55,050\n",
            "Non-trainable params: 0\n",
            "_________________________________________________________________\n"
          ],
          "name": "stdout"
        }
      ]
    },
    {
      "cell_type": "code",
      "metadata": {
        "id": "bpTWzxM1eM1e"
      },
      "source": [
        "# Let's compile the model\n",
        "learning_rate = .001\n",
        "model_1.compile(loss='categorical_crossentropy', optimizer=RMSprop(lr=learning_rate), metrics=['accuracy'])"
      ],
      "execution_count": 12,
      "outputs": []
    },
    {
      "cell_type": "code",
      "metadata": {
        "colab": {
          "base_uri": "https://localhost:8080/"
        },
        "id": "8eA5U6Z2eM1q",
        "outputId": "8738a710-f47a-4a5b-f41f-7f57fd22c133"
      },
      "source": [
        "# And now let's fit.\n",
        "history = model_1.fit(x_train, y_train, batch_size=128, epochs=10, verbose=1, validation_data=(x_test, y_test))"
      ],
      "execution_count": 13,
      "outputs": [
        {
          "output_type": "stream",
          "text": [
            "Epoch 1/10\n",
            "469/469 [==============================] - 17s 5ms/step - loss: 0.9194 - accuracy: 0.7074 - val_loss: 0.2190 - val_accuracy: 0.9344\n",
            "Epoch 2/10\n",
            "469/469 [==============================] - 2s 3ms/step - loss: 0.3215 - accuracy: 0.9036 - val_loss: 0.1721 - val_accuracy: 0.9483\n",
            "Epoch 3/10\n",
            "469/469 [==============================] - 2s 3ms/step - loss: 0.2601 - accuracy: 0.9241 - val_loss: 0.1476 - val_accuracy: 0.9548\n",
            "Epoch 4/10\n",
            "469/469 [==============================] - 1s 3ms/step - loss: 0.2204 - accuracy: 0.9348 - val_loss: 0.1323 - val_accuracy: 0.9603\n",
            "Epoch 5/10\n",
            "469/469 [==============================] - 2s 3ms/step - loss: 0.2056 - accuracy: 0.9409 - val_loss: 0.1301 - val_accuracy: 0.9629\n",
            "Epoch 6/10\n",
            "469/469 [==============================] - 1s 3ms/step - loss: 0.1862 - accuracy: 0.9468 - val_loss: 0.1232 - val_accuracy: 0.9648\n",
            "Epoch 7/10\n",
            "469/469 [==============================] - 2s 3ms/step - loss: 0.1791 - accuracy: 0.9477 - val_loss: 0.1162 - val_accuracy: 0.9660\n",
            "Epoch 8/10\n",
            "469/469 [==============================] - 1s 3ms/step - loss: 0.1761 - accuracy: 0.9497 - val_loss: 0.1148 - val_accuracy: 0.9668\n",
            "Epoch 9/10\n",
            "469/469 [==============================] - 2s 3ms/step - loss: 0.1647 - accuracy: 0.9528 - val_loss: 0.1161 - val_accuracy: 0.9667\n",
            "Epoch 10/10\n",
            "469/469 [==============================] - 1s 3ms/step - loss: 0.1607 - accuracy: 0.9550 - val_loss: 0.1104 - val_accuracy: 0.9702\n"
          ],
          "name": "stdout"
        }
      ]
    },
    {
      "cell_type": "code",
      "metadata": {
        "colab": {
          "base_uri": "https://localhost:8080/"
        },
        "id": "N9uNAFlieM10",
        "outputId": "598d8b24-cd6a-4814-8edc-93b13eaf6fb9"
      },
      "source": [
        "## We will use Keras evaluate function to evaluate performance on the test set\n",
        "\n",
        "score = model_1.evaluate(x_test, y_test, verbose=0)\n",
        "print('Test loss:', score[0])\n",
        "print('Test accuracy:', score[1])"
      ],
      "execution_count": 14,
      "outputs": [
        {
          "output_type": "stream",
          "text": [
            "Test loss: 0.11038841307163239\n",
            "Test accuracy: 0.9702000021934509\n"
          ],
          "name": "stdout"
        }
      ]
    },
    {
      "cell_type": "code",
      "metadata": {
        "id": "V-wT2mC0ZD-O"
      },
      "source": [
        "def plot_loss_accuracy(history):\n",
        "    fig = plt.figure(figsize=(12, 6))\n",
        "    ax = fig.add_subplot(1, 2, 1)\n",
        "    ax.plot(history.history[\"loss\"],'r-d', label=\"Train Loss\")\n",
        "    ax.plot(history.history[\"val_loss\"],'b-d', label=\"Validation Loss\")\n",
        "    ax.legend()\n",
        "    ax.set_title('cross_entropy loss')\n",
        "    ax.grid(True)\n",
        "\n",
        "    ax = fig.add_subplot(1, 2, 2)\n",
        "    ax.plot(history.history[\"accuracy\"],'r-d', label=\"Train Accuracy\")\n",
        "    ax.plot(history.history[\"val_accuracy\"],'b-d', label=\"Validation Accuracy\")\n",
        "    ax.legend()\n",
        "    ax.set_title('accuracy')\n",
        "    ax.grid(True)"
      ],
      "execution_count": 15,
      "outputs": []
    },
    {
      "cell_type": "code",
      "metadata": {
        "colab": {
          "base_uri": "https://localhost:8080/",
          "height": 390
        },
        "id": "KOY1V45qeM2B",
        "outputId": "38565504-7aae-43da-99e4-004a77b52c1f"
      },
      "source": [
        "plot_loss_accuracy(history)"
      ],
      "execution_count": 16,
      "outputs": [
        {
          "output_type": "display_data",
          "data": {
            "image/png": "[encoded data removed]",
            "text/plain": [
              "<Figure size 864x432 with 2 Axes>"
            ]
          },
          "metadata": {
            "tags": [],
            "needs_background": "light"
          }
        }
      ]
    },
    {
      "cell_type": "markdown",
      "metadata": {
        "id": "oHrJswVfeM2N"
      },
      "source": [
        "## Exercise\n",
        "### Your Turn: Build your own model\n",
        "Use the Keras \"Sequential\" functionality to build `model_2` with the following specifications:\n",
        "\n",
        "1. Three hidden layers.\n",
        "2. Layers\n",
        " - First 300\n",
        " - Second 200\n",
        " - Third 100\n",
        "3. Dropout of .4 at each layer\n",
        "4. How many parameters does your model have?\n",
        "4. Train this model for 20 epochs with RMSProp at a learning rate of .001 and a batch size of 128\n",
        "\n",
        "\n"
      ]
    },
    {
      "cell_type": "code",
      "metadata": {
        "id": "2E3cPjrleM2R"
      },
      "source": [
        ""
      ],
      "execution_count": 16,
      "outputs": []
    }
  ]
}